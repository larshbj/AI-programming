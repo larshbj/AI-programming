{
 "cells": [
  {
   "cell_type": "markdown",
   "metadata": {},
   "source": [
    "## Importing packages"
   ]
  },
  {
   "cell_type": "code",
   "execution_count": 34,
   "metadata": {
    "collapsed": true
   },
   "outputs": [],
   "source": [
    "from copy import deepcopy"
   ]
  },
  {
   "cell_type": "markdown",
   "metadata": {},
   "source": [
    "## Define general A* classes"
   ]
  },
  {
   "cell_type": "code",
   "execution_count": 35,
   "metadata": {
    "collapsed": false
   },
   "outputs": [],
   "source": [
    "class BestFirstSearch():\n",
    "    def __init__(self):\n",
    "        # manages the overall operation of Astar\n",
    "        return"
   ]
  },
  {
   "cell_type": "code",
   "execution_count": 36,
   "metadata": {
    "collapsed": true
   },
   "outputs": [],
   "source": [
    "class SearchState():\n",
    "    def __init__(self):\n",
    "        return\n",
    "        # the board"
   ]
  },
  {
   "cell_type": "code",
   "execution_count": 28,
   "metadata": {
    "collapsed": true
   },
   "outputs": [],
   "source": [
    "class SearchNode():\n",
    "    def __init__(self, state):\n",
    "        state\n",
    "        g\n",
    "        h\n",
    "        f\n",
    "        status\n",
    "        parent\n",
    "        kids\n",
    "\n",
    "    def calculateCost(self, g, h):\n",
    "        f = g + h"
   ]
  },
  {
   "cell_type": "markdown",
   "metadata": {},
   "source": [
    "## Define Rush Hour-specific classes"
   ]
  },
  {
   "cell_type": "code",
   "execution_count": 38,
   "metadata": {
    "collapsed": false
   },
   "outputs": [],
   "source": [
    "class RushHourState(SearchState):\n",
    "    def __init__(self, board):\n",
    "        SearchState.__init__(self)\n",
    "        self.board = board\n",
    "\n",
    "    def createStateIdentifier(self):\n",
    "        return\n",
    "        # generate hashID"
   ]
  },
  {
   "cell_type": "code",
   "execution_count": 37,
   "metadata": {
    "collapsed": true
   },
   "outputs": [],
   "source": [
    "class RushHourNode(SearchNode):\n",
    "    def __init__(self):\n",
    "        SearchNode.__init__(self)"
   ]
  },
  {
   "cell_type": "code",
   "execution_count": 39,
   "metadata": {
    "collapsed": false
   },
   "outputs": [],
   "source": [
    "class RushHourBfs(BestFirstSearch):\n",
    "    def __init__(self, board_file, goal_state):\n",
    "        BestFirstSearch.__init__(self)\n",
    "        self.goal_state = goal_state\n",
    "\n",
    "        open_states = {}\n",
    "        board = []\n",
    "\n",
    "        with open(board_file) as f:\n",
    "            rows = f.readlines()\n",
    "            rows = [row.replace('\\n', '') for row in rows]\n",
    "            for row in rows:\n",
    "                board.append([int(x) for x in row.split(\",\")])\n",
    "        print (board)\n",
    "\n",
    "    def createRootNode(self):\n",
    "        return\n",
    "        # creates initial search state\n",
    "\n",
    "    def generateSuccesorStates(self, node):\n",
    "        return\n",
    "        # expands (parent) node\n",
    "        # generate children to parent state\n",
    "\n",
    "    def isSolution(self, node):\n",
    "        return\n",
    "        # compares state of node to goal_state\n",
    "\n",
    "    def heuristicEvaluation(self, node):\n",
    "        return\n",
    "        # estimaed distance-to-goal from nodes state\n",
    "\n",
    "    def arcCost(self, parent_node, child_node):\n",
    "        return\n",
    "        # arc-cost between parent node and child node"
   ]
  },
  {
   "cell_type": "markdown",
   "metadata": {},
   "source": [
    "## Run Rush Hour"
   ]
  },
  {
   "cell_type": "code",
   "execution_count": 40,
   "metadata": {
    "collapsed": false
   },
   "outputs": [
    {
     "name": "stdout",
     "output_type": "stream",
     "text": [
      "[[0, 2, 2, 2], [0, 0, 4, 3], [0, 3, 4, 2], [0, 4, 1, 2], [1, 2, 0, 2], [1, 4, 2, 2]]\n"
     ]
    }
   ],
   "source": [
    "solution = RushHourBfs(\"boards/easy-3.txt\", (5,1))"
   ]
  },
  {
   "cell_type": "code",
   "execution_count": null,
   "metadata": {
    "collapsed": true
   },
   "outputs": [],
   "source": []
  },
  {
   "cell_type": "code",
   "execution_count": null,
   "metadata": {
    "collapsed": true
   },
   "outputs": [],
   "source": []
  }
 ],
 "metadata": {
  "kernelspec": {
   "display_name": "Python 3",
   "language": "python",
   "name": "python3"
  },
  "language_info": {
   "codemirror_mode": {
    "name": "ipython",
    "version": 3
   },
   "file_extension": ".py",
   "mimetype": "text/x-python",
   "name": "python",
   "nbconvert_exporter": "python",
   "pygments_lexer": "ipython3",
   "version": "3.6.0"
  }
 },
 "nbformat": 4,
 "nbformat_minor": 2
}
